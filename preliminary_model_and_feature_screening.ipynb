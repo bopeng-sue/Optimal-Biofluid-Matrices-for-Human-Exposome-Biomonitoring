{
  "nbformat": 4,
  "nbformat_minor": 0,
  "metadata": {
    "colab": {
      "provenance": [],
      "toc_visible": true,
      "authorship_tag": "ABX9TyM91jcppjYfZmxZsvd+Bak6",
      "include_colab_link": true
    },
    "kernelspec": {
      "name": "python3",
      "display_name": "Python 3"
    },
    "language_info": {
      "name": "python"
    }
  },
  "cells": [
    {
      "cell_type": "markdown",
      "metadata": {
        "id": "view-in-github",
        "colab_type": "text"
      },
      "source": [
        "<a href=\"https://colab.research.google.com/github/bopeng-sue/Optimal-Biofluid-Matrices-for-Human-Exposome-Biomonitoring/blob/main/preliminary_model_and_feature_screening.ipynb\" target=\"_parent\"><img src=\"https://colab.research.google.com/assets/colab-badge.svg\" alt=\"Open In Colab\"/></a>"
      ]
    },
    {
      "cell_type": "markdown",
      "source": [
        "# import packages and file"
      ],
      "metadata": {
        "id": "MNNgzhcQ3teK"
      }
    },
    {
      "cell_type": "code",
      "execution_count": null,
      "metadata": {
        "id": "a0T9hml72yXf"
      },
      "outputs": [],
      "source": [
        "import numpy as np\n",
        "import pandas as pd\n",
        "from rdkit import Chem, RDLogger\n",
        "from rdkit.Chem import AllChem, MACCSkeys, Descriptors\n",
        "from rdkit.ML.Descriptors import MoleculeDescriptors\n",
        "from sklearn.model_selection import StratifiedKFold, cross_val_score\n",
        "from sklearn.metrics import accuracy_score, f1_score, precision_score, recall_score\n",
        "from sklearn.ensemble import (\n",
        "    RandomForestClassifier, GradientBoostingClassifier, AdaBoostClassifier, ExtraTreesClassifier\n",
        ")\n",
        "from sklearn.svm import SVC\n",
        "from sklearn.linear_model import LogisticRegression\n",
        "from sklearn.tree import DecisionTreeClassifier\n",
        "from sklearn.neighbors import KNeighborsClassifier\n",
        "from xgboost import XGBClassifier\n",
        "from lightgbm import LGBMClassifier\n",
        "from catboost import CatBoostClassifier\n",
        "from sklearn.neural_network import MLPClassifier\n",
        "from tqdm import tqdm\n",
        "import warnings\n",
        "\n",
        "warnings.filterwarnings('ignore')\n",
        "RDLogger.DisableLog('rdApp.*')"
      ]
    },
    {
      "cell_type": "code",
      "source": [
        "df = pd.read_excel('dataset_1211.xlsx')\n",
        "df.head(2)"
      ],
      "metadata": {
        "colab": {
          "base_uri": "https://localhost:8080/",
          "height": 265
        },
        "id": "ezNphVIB6OIq",
        "outputId": "e0f96df7-9af8-439c-ed6b-7422b2af2513"
      },
      "execution_count": null,
      "outputs": [
        {
          "output_type": "execute_result",
          "data": {
            "text/plain": [
              "   Unnamed: 0  Biomonitor Compound PubChem CID  Blood study numbers  \\\n",
              "0           0                               70                    0   \n",
              "1           1                               89                    0   \n",
              "\n",
              "   Urine study numbers  Tendency for the selection of blood samples  \\\n",
              "0                    2                                          0.0   \n",
              "1                    1                                          0.0   \n",
              "\n",
              "  Biospecimen CAS Number                        Name  \\\n",
              "0       Urine   816-66-0  4-Methyl-2-oxovaleric acid   \n",
              "1       Urine   484-78-6           Hydroxykynurenine   \n",
              "\n",
              "                                SMILES  hhlb(hours)  ...  JGI10       JGT  \\\n",
              "0                    CC(C)CC(=O)C(=O)O         0.61  ...    0.0  0.601944   \n",
              "1  C1=CC(=C(C(=C1)O)N)C(=O)CC(C(=O)O)N         0.43  ...    0.0  0.556317   \n",
              "\n",
              "      VE1_D     VE3_D       VR1_D      VR2_D  SRW5       AMW     WTPT-3  XLogP  \n",
              "0  0.046505 -2.761367   35.180772   3.908975   0.0  6.845421   7.158910  0.904  \n",
              "1  0.130944 -3.252780  192.246721  12.015420   0.0  8.002847  14.772289 -2.464  \n",
              "\n",
              "[2 rows x 680 columns]"
            ],
            "text/html": [
              "\n",
              "  <div id=\"df-dceb1658-0e3d-412b-a9ce-a684c42ecbaa\" class=\"colab-df-container\">\n",
              "    <div>\n",
              "<style scoped>\n",
              "    .dataframe tbody tr th:only-of-type {\n",
              "        vertical-align: middle;\n",
              "    }\n",
              "\n",
              "    .dataframe tbody tr th {\n",
              "        vertical-align: top;\n",
              "    }\n",
              "\n",
              "    .dataframe thead th {\n",
              "        text-align: right;\n",
              "    }\n",
              "</style>\n",
              "<table border=\"1\" class=\"dataframe\">\n",
              "  <thead>\n",
              "    <tr style=\"text-align: right;\">\n",
              "      <th></th>\n",
              "      <th>Unnamed: 0</th>\n",
              "      <th>Biomonitor Compound PubChem CID</th>\n",
              "      <th>Blood study numbers</th>\n",
              "      <th>Urine study numbers</th>\n",
              "      <th>Tendency for the selection of blood samples</th>\n",
              "      <th>Biospecimen</th>\n",
              "      <th>CAS Number</th>\n",
              "      <th>Name</th>\n",
              "      <th>SMILES</th>\n",
              "      <th>hhlb(hours)</th>\n",
              "      <th>...</th>\n",
              "      <th>JGI10</th>\n",
              "      <th>JGT</th>\n",
              "      <th>VE1_D</th>\n",
              "      <th>VE3_D</th>\n",
              "      <th>VR1_D</th>\n",
              "      <th>VR2_D</th>\n",
              "      <th>SRW5</th>\n",
              "      <th>AMW</th>\n",
              "      <th>WTPT-3</th>\n",
              "      <th>XLogP</th>\n",
              "    </tr>\n",
              "  </thead>\n",
              "  <tbody>\n",
              "    <tr>\n",
              "      <th>0</th>\n",
              "      <td>0</td>\n",
              "      <td>70</td>\n",
              "      <td>0</td>\n",
              "      <td>2</td>\n",
              "      <td>0.0</td>\n",
              "      <td>Urine</td>\n",
              "      <td>816-66-0</td>\n",
              "      <td>4-Methyl-2-oxovaleric acid</td>\n",
              "      <td>CC(C)CC(=O)C(=O)O</td>\n",
              "      <td>0.61</td>\n",
              "      <td>...</td>\n",
              "      <td>0.0</td>\n",
              "      <td>0.601944</td>\n",
              "      <td>0.046505</td>\n",
              "      <td>-2.761367</td>\n",
              "      <td>35.180772</td>\n",
              "      <td>3.908975</td>\n",
              "      <td>0.0</td>\n",
              "      <td>6.845421</td>\n",
              "      <td>7.158910</td>\n",
              "      <td>0.904</td>\n",
              "    </tr>\n",
              "    <tr>\n",
              "      <th>1</th>\n",
              "      <td>1</td>\n",
              "      <td>89</td>\n",
              "      <td>0</td>\n",
              "      <td>1</td>\n",
              "      <td>0.0</td>\n",
              "      <td>Urine</td>\n",
              "      <td>484-78-6</td>\n",
              "      <td>Hydroxykynurenine</td>\n",
              "      <td>C1=CC(=C(C(=C1)O)N)C(=O)CC(C(=O)O)N</td>\n",
              "      <td>0.43</td>\n",
              "      <td>...</td>\n",
              "      <td>0.0</td>\n",
              "      <td>0.556317</td>\n",
              "      <td>0.130944</td>\n",
              "      <td>-3.252780</td>\n",
              "      <td>192.246721</td>\n",
              "      <td>12.015420</td>\n",
              "      <td>0.0</td>\n",
              "      <td>8.002847</td>\n",
              "      <td>14.772289</td>\n",
              "      <td>-2.464</td>\n",
              "    </tr>\n",
              "  </tbody>\n",
              "</table>\n",
              "<p>2 rows × 680 columns</p>\n",
              "</div>\n",
              "    <div class=\"colab-df-buttons\">\n",
              "\n",
              "  <div class=\"colab-df-container\">\n",
              "    <button class=\"colab-df-convert\" onclick=\"convertToInteractive('df-dceb1658-0e3d-412b-a9ce-a684c42ecbaa')\"\n",
              "            title=\"Convert this dataframe to an interactive table.\"\n",
              "            style=\"display:none;\">\n",
              "\n",
              "  <svg xmlns=\"http://www.w3.org/2000/svg\" height=\"24px\" viewBox=\"0 -960 960 960\">\n",
              "    <path d=\"M120-120v-720h720v720H120Zm60-500h600v-160H180v160Zm220 220h160v-160H400v160Zm0 220h160v-160H400v160ZM180-400h160v-160H180v160Zm440 0h160v-160H620v160ZM180-180h160v-160H180v160Zm440 0h160v-160H620v160Z\"/>\n",
              "  </svg>\n",
              "    </button>\n",
              "\n",
              "  <style>\n",
              "    .colab-df-container {\n",
              "      display:flex;\n",
              "      gap: 12px;\n",
              "    }\n",
              "\n",
              "    .colab-df-convert {\n",
              "      background-color: #E8F0FE;\n",
              "      border: none;\n",
              "      border-radius: 50%;\n",
              "      cursor: pointer;\n",
              "      display: none;\n",
              "      fill: #1967D2;\n",
              "      height: 32px;\n",
              "      padding: 0 0 0 0;\n",
              "      width: 32px;\n",
              "    }\n",
              "\n",
              "    .colab-df-convert:hover {\n",
              "      background-color: #E2EBFA;\n",
              "      box-shadow: 0px 1px 2px rgba(60, 64, 67, 0.3), 0px 1px 3px 1px rgba(60, 64, 67, 0.15);\n",
              "      fill: #174EA6;\n",
              "    }\n",
              "\n",
              "    .colab-df-buttons div {\n",
              "      margin-bottom: 4px;\n",
              "    }\n",
              "\n",
              "    [theme=dark] .colab-df-convert {\n",
              "      background-color: #3B4455;\n",
              "      fill: #D2E3FC;\n",
              "    }\n",
              "\n",
              "    [theme=dark] .colab-df-convert:hover {\n",
              "      background-color: #434B5C;\n",
              "      box-shadow: 0px 1px 3px 1px rgba(0, 0, 0, 0.15);\n",
              "      filter: drop-shadow(0px 1px 2px rgba(0, 0, 0, 0.3));\n",
              "      fill: #FFFFFF;\n",
              "    }\n",
              "  </style>\n",
              "\n",
              "    <script>\n",
              "      const buttonEl =\n",
              "        document.querySelector('#df-dceb1658-0e3d-412b-a9ce-a684c42ecbaa button.colab-df-convert');\n",
              "      buttonEl.style.display =\n",
              "        google.colab.kernel.accessAllowed ? 'block' : 'none';\n",
              "\n",
              "      async function convertToInteractive(key) {\n",
              "        const element = document.querySelector('#df-dceb1658-0e3d-412b-a9ce-a684c42ecbaa');\n",
              "        const dataTable =\n",
              "          await google.colab.kernel.invokeFunction('convertToInteractive',\n",
              "                                                    [key], {});\n",
              "        if (!dataTable) return;\n",
              "\n",
              "        const docLinkHtml = 'Like what you see? Visit the ' +\n",
              "          '<a target=\"_blank\" href=https://colab.research.google.com/notebooks/data_table.ipynb>data table notebook</a>'\n",
              "          + ' to learn more about interactive tables.';\n",
              "        element.innerHTML = '';\n",
              "        dataTable['output_type'] = 'display_data';\n",
              "        await google.colab.output.renderOutput(dataTable, element);\n",
              "        const docLink = document.createElement('div');\n",
              "        docLink.innerHTML = docLinkHtml;\n",
              "        element.appendChild(docLink);\n",
              "      }\n",
              "    </script>\n",
              "  </div>\n",
              "\n",
              "\n",
              "<div id=\"df-0f67c47e-cefb-4750-9b5d-41e8e607c330\">\n",
              "  <button class=\"colab-df-quickchart\" onclick=\"quickchart('df-0f67c47e-cefb-4750-9b5d-41e8e607c330')\"\n",
              "            title=\"Suggest charts\"\n",
              "            style=\"display:none;\">\n",
              "\n",
              "<svg xmlns=\"http://www.w3.org/2000/svg\" height=\"24px\"viewBox=\"0 0 24 24\"\n",
              "     width=\"24px\">\n",
              "    <g>\n",
              "        <path d=\"M19 3H5c-1.1 0-2 .9-2 2v14c0 1.1.9 2 2 2h14c1.1 0 2-.9 2-2V5c0-1.1-.9-2-2-2zM9 17H7v-7h2v7zm4 0h-2V7h2v10zm4 0h-2v-4h2v4z\"/>\n",
              "    </g>\n",
              "</svg>\n",
              "  </button>\n",
              "\n",
              "<style>\n",
              "  .colab-df-quickchart {\n",
              "      --bg-color: #E8F0FE;\n",
              "      --fill-color: #1967D2;\n",
              "      --hover-bg-color: #E2EBFA;\n",
              "      --hover-fill-color: #174EA6;\n",
              "      --disabled-fill-color: #AAA;\n",
              "      --disabled-bg-color: #DDD;\n",
              "  }\n",
              "\n",
              "  [theme=dark] .colab-df-quickchart {\n",
              "      --bg-color: #3B4455;\n",
              "      --fill-color: #D2E3FC;\n",
              "      --hover-bg-color: #434B5C;\n",
              "      --hover-fill-color: #FFFFFF;\n",
              "      --disabled-bg-color: #3B4455;\n",
              "      --disabled-fill-color: #666;\n",
              "  }\n",
              "\n",
              "  .colab-df-quickchart {\n",
              "    background-color: var(--bg-color);\n",
              "    border: none;\n",
              "    border-radius: 50%;\n",
              "    cursor: pointer;\n",
              "    display: none;\n",
              "    fill: var(--fill-color);\n",
              "    height: 32px;\n",
              "    padding: 0;\n",
              "    width: 32px;\n",
              "  }\n",
              "\n",
              "  .colab-df-quickchart:hover {\n",
              "    background-color: var(--hover-bg-color);\n",
              "    box-shadow: 0 1px 2px rgba(60, 64, 67, 0.3), 0 1px 3px 1px rgba(60, 64, 67, 0.15);\n",
              "    fill: var(--button-hover-fill-color);\n",
              "  }\n",
              "\n",
              "  .colab-df-quickchart-complete:disabled,\n",
              "  .colab-df-quickchart-complete:disabled:hover {\n",
              "    background-color: var(--disabled-bg-color);\n",
              "    fill: var(--disabled-fill-color);\n",
              "    box-shadow: none;\n",
              "  }\n",
              "\n",
              "  .colab-df-spinner {\n",
              "    border: 2px solid var(--fill-color);\n",
              "    border-color: transparent;\n",
              "    border-bottom-color: var(--fill-color);\n",
              "    animation:\n",
              "      spin 1s steps(1) infinite;\n",
              "  }\n",
              "\n",
              "  @keyframes spin {\n",
              "    0% {\n",
              "      border-color: transparent;\n",
              "      border-bottom-color: var(--fill-color);\n",
              "      border-left-color: var(--fill-color);\n",
              "    }\n",
              "    20% {\n",
              "      border-color: transparent;\n",
              "      border-left-color: var(--fill-color);\n",
              "      border-top-color: var(--fill-color);\n",
              "    }\n",
              "    30% {\n",
              "      border-color: transparent;\n",
              "      border-left-color: var(--fill-color);\n",
              "      border-top-color: var(--fill-color);\n",
              "      border-right-color: var(--fill-color);\n",
              "    }\n",
              "    40% {\n",
              "      border-color: transparent;\n",
              "      border-right-color: var(--fill-color);\n",
              "      border-top-color: var(--fill-color);\n",
              "    }\n",
              "    60% {\n",
              "      border-color: transparent;\n",
              "      border-right-color: var(--fill-color);\n",
              "    }\n",
              "    80% {\n",
              "      border-color: transparent;\n",
              "      border-right-color: var(--fill-color);\n",
              "      border-bottom-color: var(--fill-color);\n",
              "    }\n",
              "    90% {\n",
              "      border-color: transparent;\n",
              "      border-bottom-color: var(--fill-color);\n",
              "    }\n",
              "  }\n",
              "</style>\n",
              "\n",
              "  <script>\n",
              "    async function quickchart(key) {\n",
              "      const quickchartButtonEl =\n",
              "        document.querySelector('#' + key + ' button');\n",
              "      quickchartButtonEl.disabled = true;  // To prevent multiple clicks.\n",
              "      quickchartButtonEl.classList.add('colab-df-spinner');\n",
              "      try {\n",
              "        const charts = await google.colab.kernel.invokeFunction(\n",
              "            'suggestCharts', [key], {});\n",
              "      } catch (error) {\n",
              "        console.error('Error during call to suggestCharts:', error);\n",
              "      }\n",
              "      quickchartButtonEl.classList.remove('colab-df-spinner');\n",
              "      quickchartButtonEl.classList.add('colab-df-quickchart-complete');\n",
              "    }\n",
              "    (() => {\n",
              "      let quickchartButtonEl =\n",
              "        document.querySelector('#df-0f67c47e-cefb-4750-9b5d-41e8e607c330 button');\n",
              "      quickchartButtonEl.style.display =\n",
              "        google.colab.kernel.accessAllowed ? 'block' : 'none';\n",
              "    })();\n",
              "  </script>\n",
              "</div>\n",
              "\n",
              "    </div>\n",
              "  </div>\n"
            ],
            "application/vnd.google.colaboratory.intrinsic+json": {
              "type": "dataframe",
              "variable_name": "df"
            }
          },
          "metadata": {},
          "execution_count": 11
        }
      ]
    },
    {
      "cell_type": "markdown",
      "source": [
        "# feature function"
      ],
      "metadata": {
        "id": "2Q_9Zsfs46Lt"
      }
    },
    {
      "cell_type": "code",
      "source": [
        "def padel_descriptor(df: pd.DataFrame) -> np.ndarray:\n",
        "    \"\"\"\n",
        "    Extracts Padel descriptors from a given DataFrame starting from column index 16\n",
        "    to the end. It replaces NaN values with 0 and infinite values with 1e10.\n",
        "\n",
        "    Parameters\n",
        "    ----------\n",
        "    df : pd.DataFrame\n",
        "        The input DataFrame containing feature columns.\n",
        "\n",
        "    Returns\n",
        "    -------\n",
        "    np.ndarray\n",
        "        A NumPy array of transformed feature values.\n",
        "    \"\"\"\n",
        "    # Slice columns from index 16 to the end\n",
        "    X = df.iloc[:, 16:].values\n",
        "\n",
        "    # Replace NaNs with 0\n",
        "    X = np.nan_to_num(X, nan=0.0)\n",
        "\n",
        "    # Replace infinities with a large finite value\n",
        "    X[np.isinf(X)] = 1e10\n",
        "\n",
        "    return X"
      ],
      "metadata": {
        "id": "ney7ZEtK5nV8"
      },
      "execution_count": null,
      "outputs": []
    },
    {
      "cell_type": "code",
      "source": [
        "def maccs_descriptor(smiles_list):\n",
        "    \"\"\"\n",
        "    Generates MACCS fingerprints for a list of SMILES strings and returns them as a DataFrame.\n",
        "\n",
        "    Parameters\n",
        "    ----------\n",
        "    smiles_list : list of str\n",
        "        A list of SMILES strings for which MACCS keys will be generated.\n",
        "\n",
        "    Returns\n",
        "    -------\n",
        "    pd.DataFrame\n",
        "        A DataFrame of MACCS bit values (0 or 1) with column names 'MACCS_1' through 'MACCS_167'.\n",
        "    \"\"\"\n",
        "    # Generate MACCS fingerprints and convert them to a list of bits\n",
        "    maccs_fingerprints = [\n",
        "        list(MACCSkeys.GenMACCSKeys(Chem.MolFromSmiles(smiles)).ToBitString())\n",
        "        for smiles in smiles_list\n",
        "    ]\n",
        "\n",
        "    # Convert the list of bits to a DataFrame\n",
        "    # MACCSkeys are 167 bits long, hence 167 columns\n",
        "    X = pd.DataFrame(maccs_fingerprints, columns=[f'MACCS_{i}' for i in range(1, 168)])\n",
        "\n",
        "    # Convert strings to integers (0 and 1)\n",
        "    X = X.astype(int)\n",
        "\n",
        "    return X"
      ],
      "metadata": {
        "id": "f4cAvPvt6FDC"
      },
      "execution_count": null,
      "outputs": []
    },
    {
      "cell_type": "code",
      "source": [
        "def ecfp_descriptor(smiles_list, radius=2, n_bits=1024):\n",
        "    \"\"\"\n",
        "    Generates ECFP (Extended-Connectivity Fingerprints) for a list of SMILES strings\n",
        "    and returns them as a NumPy array.\n",
        "\n",
        "    Parameters\n",
        "    ----------\n",
        "    smiles_list : list of str\n",
        "        A list of SMILES strings for which ECFP fingerprints will be generated.\n",
        "    radius : int, optional (default=2)\n",
        "        The fingerprint radius to use. For ECFP4, radius=2 is standard.\n",
        "    n_bits : int, optional (default=1024)\n",
        "        Length of the bit vector.\n",
        "\n",
        "    Returns\n",
        "    -------\n",
        "    np.ndarray\n",
        "        A 2D NumPy array where each row corresponds to the ECFP bit vector of the input SMILES.\n",
        "    \"\"\"\n",
        "    def calculate_ecfp(smiles, radius=radius, n_bits=n_bits):\n",
        "        mol = Chem.MolFromSmiles(smiles)\n",
        "        if mol is not None:\n",
        "            fp = AllChem.GetMorganFingerprintAsBitVect(mol, radius=radius, nBits=n_bits, useFeatures=False)\n",
        "            return np.array(fp)\n",
        "        else:\n",
        "            return np.zeros(n_bits, dtype=int)\n",
        "\n",
        "    # Apply ECFP calculation to the input list of SMILES\n",
        "    ecfp_fingerprints = np.array([calculate_ecfp(s) for s in smiles_list])\n",
        "    return ecfp_fingerprints"
      ],
      "metadata": {
        "id": "9QflQAOr6Fh4"
      },
      "execution_count": null,
      "outputs": []
    },
    {
      "cell_type": "code",
      "source": [
        "def fcfp_descriptor(smiles_list, radius=2, n_bits=1024):\n",
        "    \"\"\"\n",
        "    Generates FCFP (Feature-based Circular Fingerprints) for a list of SMILES strings\n",
        "    and returns them as a NumPy array.\n",
        "\n",
        "    Parameters\n",
        "    ----------\n",
        "    smiles_list : list of str\n",
        "        A list of SMILES strings for which FCFP fingerprints will be generated.\n",
        "    radius : int, optional (default=2)\n",
        "        The fingerprint radius to use.\n",
        "    n_bits : int, optional (default=1024)\n",
        "        Length of the bit vector.\n",
        "\n",
        "    Returns\n",
        "    -------\n",
        "    np.ndarray\n",
        "        A 2D NumPy array where each row corresponds to the FCFP bit vector of the input SMILES.\n",
        "    \"\"\"\n",
        "    def calculate_fcfp(smiles, radius=radius, n_bits=n_bits):\n",
        "        mol = Chem.MolFromSmiles(smiles)\n",
        "        if mol is not None:\n",
        "            fp = AllChem.GetMorganFingerprintAsBitVect(mol, radius=radius, nBits=n_bits, useFeatures=True)\n",
        "            return np.array(fp)\n",
        "        else:\n",
        "            return np.zeros(n_bits, dtype=int)\n",
        "\n",
        "    # Apply FCFP calculation to the input list of SMILES\n",
        "    fcfp_fingerprints = np.array([calculate_fcfp(s) for s in smiles_list])\n",
        "    return fcfp_fingerprints"
      ],
      "metadata": {
        "id": "QfC8nXHv6Idk"
      },
      "execution_count": null,
      "outputs": []
    },
    {
      "cell_type": "code",
      "source": [
        "def rdkit_descriptors_to_X(df: pd.DataFrame, smiles_col='SMILES', correlation_threshold=0.95) -> np.ndarray:\n",
        "    \"\"\"\n",
        "    Compute RDKit molecular descriptors for each SMILES in the given DataFrame,\n",
        "    remove descriptors with zero variance and highly correlated descriptors,\n",
        "    and return the final feature matrix X.\n",
        "\n",
        "    Parameters\n",
        "    ----------\n",
        "    df : pd.DataFrame\n",
        "        A DataFrame containing at least a 'SMILES' column.\n",
        "    smiles_col : str, optional\n",
        "        The name of the column containing SMILES strings.\n",
        "    correlation_threshold : float, optional\n",
        "        Threshold above which descriptors are considered highly correlated and removed.\n",
        "\n",
        "    Returns\n",
        "    -------\n",
        "    np.ndarray\n",
        "        A 2D NumPy array containing the filtered RDKit descriptors.\n",
        "    \"\"\"\n",
        "    # Convert SMILES to RDKit Mol objects\n",
        "    mol_list = [Chem.MolFromSmiles(s) for s in df[smiles_col]]\n",
        "\n",
        "    # Define the descriptor names\n",
        "    descriptor_names = [desc_name[0] for desc_name in Descriptors._descList]\n",
        "\n",
        "    # Create a descriptor calculator\n",
        "    calculator = MoleculeDescriptors.MolecularDescriptorCalculator(descriptor_names)\n",
        "\n",
        "    # Calculate descriptors for each molecule, if mol is None use NaNs\n",
        "    descriptors_list = [\n",
        "        calculator.CalcDescriptors(mol) if mol is not None else [np.nan]*len(descriptor_names)\n",
        "        for mol in mol_list\n",
        "    ]\n",
        "\n",
        "    # Convert the list of descriptors to a DataFrame\n",
        "    descriptors_df = pd.DataFrame(descriptors_list, columns=descriptor_names)\n",
        "\n",
        "    # Replace NaNs with 0\n",
        "    descriptors_df = descriptors_df.fillna(0)\n",
        "\n",
        "    # Step 1: Remove descriptors with zero variance\n",
        "    variance = descriptors_df.var()\n",
        "    zero_variance_columns = variance[variance == 0].index\n",
        "    descriptors_df = descriptors_df.drop(columns=zero_variance_columns)\n",
        "\n",
        "    # Step 2: Remove descriptors with correlation exceeding the threshold\n",
        "    corr = descriptors_df.corr().abs()\n",
        "    to_drop = []\n",
        "\n",
        "    for i, col1 in enumerate(corr.columns):\n",
        "        for col2 in corr.columns[i+1:]:\n",
        "            if corr.loc[col1, col2] > correlation_threshold:\n",
        "                to_drop.append(col2)\n",
        "\n",
        "    # Remove duplicates if any\n",
        "    to_drop = list(set(to_drop))\n",
        "\n",
        "    # Drop the highly correlated descriptors\n",
        "    descriptors_df = descriptors_df.drop(columns=to_drop, errors='ignore')\n",
        "\n",
        "    # Convert the final descriptors DataFrame to a NumPy array\n",
        "    X = descriptors_df.values\n",
        "\n",
        "    return X"
      ],
      "metadata": {
        "id": "SWZQCXgq6DAx"
      },
      "execution_count": null,
      "outputs": []
    },
    {
      "cell_type": "markdown",
      "source": [
        "# screening"
      ],
      "metadata": {
        "id": "2PDWvAej5m_7"
      }
    },
    {
      "cell_type": "code",
      "source": [
        "def run_descriptor_model_screening(df: pd.DataFrame,\n",
        "                                   target_col: str = 'Tendency for the selection of blood samples',\n",
        "                                   smiles_col: str = 'SMILES',\n",
        "                                   descriptor_method: str = 'maccs',\n",
        "                                   correlation_threshold: float = 0.95):\n",
        "    \"\"\"\n",
        "    Apply the specified descriptor method to the input DataFrame, extract feature matrix X,\n",
        "    then run multiple classification models with 5-fold stratified cross-validation and print the results.\n",
        "    Includes a progress bar for the model evaluation loop.\n",
        "\n",
        "    Parameters\n",
        "    ----------\n",
        "    df : pd.DataFrame\n",
        "        Input DataFrame containing at least the target column and a SMILES column.\n",
        "    target_col : str, optional\n",
        "        Name of the target column.\n",
        "    smiles_col : str, optional\n",
        "        Name of the SMILES column.\n",
        "    descriptor_method : str, optional\n",
        "        The descriptor method to use. Choose from: 'padel', 'maccs', 'fcfp', 'ecfp', 'rdkit'.\n",
        "    correlation_threshold : float, optional\n",
        "        Used only by rdkit_descriptors_to_X if that method is chosen.\n",
        "\n",
        "    Returns\n",
        "    -------\n",
        "    pd.DataFrame\n",
        "        A DataFrame summarizing the results of each model with the chosen descriptor method.\n",
        "    \"\"\"\n",
        "\n",
        "    # Extract and binarize the target if necessary\n",
        "    y = (df[target_col] > 0.5).astype(int)\n",
        "\n",
        "    # Compute X based on the chosen descriptor method\n",
        "    if descriptor_method.lower() == 'padel':\n",
        "        X = padel_descriptor(df)  # returns a numpy array\n",
        "    elif descriptor_method.lower() == 'maccs':\n",
        "        X = maccs_descriptor(df[smiles_col].tolist()).values\n",
        "    elif descriptor_method.lower() == 'fcfp':\n",
        "        X = fcfp_descriptor(df[smiles_col].tolist())  # returns numpy array\n",
        "    elif descriptor_method.lower() == 'ecfp':\n",
        "        X = ecfp_descriptor(df[smiles_col].tolist())  # returns numpy array\n",
        "    elif descriptor_method.lower() == 'rdkit':\n",
        "        X = rdkit_descriptors_to_X(df, smiles_col=smiles_col, correlation_threshold=correlation_threshold)\n",
        "    else:\n",
        "        raise ValueError(\"Invalid descriptor_method. Choose from 'padel', 'maccs', 'fcfp', 'ecfp', 'rdkit'.\")\n",
        "\n",
        "    # Define models\n",
        "    models = {\n",
        "        \"Random Forest\": RandomForestClassifier(random_state=42),\n",
        "        \"SVM\": SVC(),\n",
        "        \"XGBoost\": XGBClassifier(random_state=42, use_label_encoder=False, eval_metric='logloss'),\n",
        "        \"MLP\": MLPClassifier(random_state=42, max_iter=1000),\n",
        "        \"Logistic Regression\": LogisticRegression(random_state=42, max_iter=1000),\n",
        "        \"Decision Tree\": DecisionTreeClassifier(random_state=42),\n",
        "        \"Gradient Boosting\": GradientBoostingClassifier(random_state=42),\n",
        "        \"AdaBoost\": AdaBoostClassifier(random_state=42),\n",
        "        \"Extra Trees\": ExtraTreesClassifier(random_state=42),\n",
        "        \"LightGBM\": LGBMClassifier(random_state=42, verbose=-1),\n",
        "        \"CatBoost\": CatBoostClassifier(verbose=0, random_state=42),\n",
        "        \"KNN\": KNeighborsClassifier()\n",
        "    }\n",
        "\n",
        "    skf = StratifiedKFold(n_splits=5, shuffle=True, random_state=42)\n",
        "    results = {}\n",
        "\n",
        "    # Use tqdm to show progress over models\n",
        "    for name, model in tqdm(models.items(), desc=f\"Evaluating models with {descriptor_method.upper()} descriptors\"):\n",
        "        accuracy_scores = cross_val_score(model, X, y, cv=skf, scoring='accuracy')\n",
        "        f1_scores = cross_val_score(model, X, y, cv=skf, scoring='f1_macro')\n",
        "        precision_scores = cross_val_score(model, X, y, cv=skf, scoring='precision_macro')\n",
        "        recall_scores = cross_val_score(model, X, y, cv=skf, scoring='recall_macro')\n",
        "\n",
        "        results[name] = {\n",
        "            \"Accuracy (mean)\": accuracy_scores.mean(),\n",
        "            \"Accuracy (std)\": accuracy_scores.std(),\n",
        "            \"F1 (mean)\": f1_scores.mean(),\n",
        "            \"F1 (std)\": f1_scores.std(),\n",
        "            \"Precision (mean)\": precision_scores.mean(),\n",
        "            \"Precision (std)\": precision_scores.std(),\n",
        "            \"Recall (mean)\": recall_scores.mean(),\n",
        "            \"Recall (std)\": recall_scores.std()\n",
        "        }\n",
        "        print(f\"{descriptor_method.upper()} - {name}: \"\n",
        "              f\"Accuracy = {accuracy_scores.mean():.4f} ± {accuracy_scores.std():.4f}, \"\n",
        "              f\"F1 = {f1_scores.mean():.4f} ± {f1_scores.std():.4f}, \"\n",
        "              f\"Precision = {precision_scores.mean():.4f} ± {precision_scores.std():.4f}, \"\n",
        "              f\"Recall = {recall_scores.mean():.4f} ± {recall_scores.std():.4f}\")\n",
        "\n",
        "    results_df = pd.DataFrame(results).T\n",
        "    return results_df\n"
      ],
      "metadata": {
        "id": "4U0YjIgd6iPU"
      },
      "execution_count": null,
      "outputs": []
    },
    {
      "cell_type": "code",
      "source": [
        "# Define the descriptor methods you want to test\n",
        "descriptor_methods = ['padel', 'maccs', 'fcfp', 'ecfp', 'rdkit']\n",
        "\n",
        "# Dictionary to store the results for each descriptor method\n",
        "all_results = {}\n",
        "\n",
        "for method in descriptor_methods:\n",
        "    results = run_descriptor_model_screening(df,\n",
        "                                             target_col='Tendency for the selection of blood samples',\n",
        "                                             smiles_col='SMILES',\n",
        "                                             descriptor_method=method)\n",
        "    all_results[method] = results\n",
        "\n",
        "\n",
        "for method, result_df in all_results.items():\n",
        "    print(f\"Results for {method.upper()}:\")\n",
        "    print(result_df)\n",
        "    print(\"======================================\")\n"
      ],
      "metadata": {
        "colab": {
          "base_uri": "https://localhost:8080/"
        },
        "id": "HIxuPj227Lhi",
        "outputId": "2503baff-5870-4d2f-8cd4-10affd2bb577"
      },
      "execution_count": null,
      "outputs": [
        {
          "output_type": "stream",
          "name": "stderr",
          "text": [
            "Evaluating models with PADEL descriptors:   8%|▊         | 1/12 [00:14<02:35, 14.14s/it]"
          ]
        },
        {
          "output_type": "stream",
          "name": "stdout",
          "text": [
            "PADEL - Random Forest: Accuracy = 0.9104 ± 0.0152, F1 = 0.9069 ± 0.0150, Precision = 0.9037 ± 0.0161, Recall = 0.9136 ± 0.0113\n"
          ]
        },
        {
          "output_type": "stream",
          "name": "stderr",
          "text": [
            "\rEvaluating models with PADEL descriptors:  17%|█▋        | 2/12 [00:15<01:06,  6.69s/it]"
          ]
        },
        {
          "output_type": "stream",
          "name": "stdout",
          "text": [
            "PADEL - SVM: Accuracy = 0.6362 ± 0.0175, F1 = 0.4670 ± 0.0345, Precision = 0.6856 ± 0.1038, Recall = 0.5348 ± 0.0204\n"
          ]
        },
        {
          "output_type": "stream",
          "name": "stderr",
          "text": [
            "\rEvaluating models with PADEL descriptors:  25%|██▌       | 3/12 [00:52<03:05, 20.62s/it]"
          ]
        },
        {
          "output_type": "stream",
          "name": "stdout",
          "text": [
            "PADEL - XGBoost: Accuracy = 0.9068 ± 0.0152, F1 = 0.9025 ± 0.0163, Precision = 0.9003 ± 0.0151, Recall = 0.9080 ± 0.0194\n"
          ]
        },
        {
          "output_type": "stream",
          "name": "stderr",
          "text": [
            "\rEvaluating models with PADEL descriptors:  33%|███▎      | 4/12 [01:12<02:40, 20.11s/it]"
          ]
        },
        {
          "output_type": "stream",
          "name": "stdout",
          "text": [
            "PADEL - MLP: Accuracy = 0.7780 ± 0.0199, F1 = 0.7627 ± 0.0227, Precision = 0.7743 ± 0.0206, Recall = 0.7641 ± 0.0271\n"
          ]
        },
        {
          "output_type": "stream",
          "name": "stderr",
          "text": [
            "\rEvaluating models with PADEL descriptors:  42%|████▏     | 5/12 [01:28<02:11, 18.77s/it]"
          ]
        },
        {
          "output_type": "stream",
          "name": "stdout",
          "text": [
            "PADEL - Logistic Regression: Accuracy = 0.8284 ± 0.0240, F1 = 0.8232 ± 0.0228, Precision = 0.8215 ± 0.0216, Recall = 0.8333 ± 0.0182\n"
          ]
        },
        {
          "output_type": "stream",
          "name": "stderr",
          "text": [
            "\rEvaluating models with PADEL descriptors:  50%|█████     | 6/12 [01:32<01:21, 13.64s/it]"
          ]
        },
        {
          "output_type": "stream",
          "name": "stdout",
          "text": [
            "PADEL - Decision Tree: Accuracy = 0.8508 ± 0.0452, F1 = 0.8417 ± 0.0479, Precision = 0.8452 ± 0.0454, Recall = 0.8417 ± 0.0491\n"
          ]
        },
        {
          "output_type": "stream",
          "name": "stderr",
          "text": [
            "\rEvaluating models with PADEL descriptors:  58%|█████▊    | 7/12 [04:15<05:13, 62.61s/it]"
          ]
        },
        {
          "output_type": "stream",
          "name": "stdout",
          "text": [
            "PADEL - Gradient Boosting: Accuracy = 0.8937 ± 0.0073, F1 = 0.8880 ± 0.0060, Precision = 0.8901 ± 0.0135, Recall = 0.8900 ± 0.0063\n"
          ]
        },
        {
          "output_type": "stream",
          "name": "stderr",
          "text": [
            "\rEvaluating models with PADEL descriptors:  67%|██████▋   | 8/12 [04:50<03:35, 53.82s/it]"
          ]
        },
        {
          "output_type": "stream",
          "name": "stdout",
          "text": [
            "PADEL - AdaBoost: Accuracy = 0.8937 ± 0.0303, F1 = 0.8886 ± 0.0310, Precision = 0.8874 ± 0.0314, Recall = 0.8918 ± 0.0300\n"
          ]
        },
        {
          "output_type": "stream",
          "name": "stderr",
          "text": [
            "\rEvaluating models with PADEL descriptors:  75%|███████▌  | 9/12 [04:55<01:55, 38.39s/it]"
          ]
        },
        {
          "output_type": "stream",
          "name": "stdout",
          "text": [
            "PADEL - Extra Trees: Accuracy = 0.9254 ± 0.0146, F1 = 0.9224 ± 0.0145, Precision = 0.9190 ± 0.0157, Recall = 0.9293 ± 0.0115\n"
          ]
        },
        {
          "output_type": "stream",
          "name": "stderr",
          "text": [
            "\rEvaluating models with PADEL descriptors:  83%|████████▎ | 10/12 [05:41<01:22, 41.01s/it]"
          ]
        },
        {
          "output_type": "stream",
          "name": "stdout",
          "text": [
            "PADEL - LightGBM: Accuracy = 0.9030 ± 0.0285, F1 = 0.8986 ± 0.0293, Precision = 0.8967 ± 0.0314, Recall = 0.9022 ± 0.0267\n"
          ]
        },
        {
          "output_type": "stream",
          "name": "stderr",
          "text": [
            "\rEvaluating models with PADEL descriptors:  92%|█████████▏| 11/12 [53:31<15:06, 906.76s/it]"
          ]
        },
        {
          "output_type": "stream",
          "name": "stdout",
          "text": [
            "PADEL - CatBoost: Accuracy = 0.9086 ± 0.0091, F1 = 0.9045 ± 0.0090, Precision = 0.9018 ± 0.0106, Recall = 0.9094 ± 0.0073\n"
          ]
        },
        {
          "output_type": "stream",
          "name": "stderr",
          "text": [
            "Evaluating models with PADEL descriptors: 100%|██████████| 12/12 [53:32<00:00, 267.69s/it]"
          ]
        },
        {
          "output_type": "stream",
          "name": "stdout",
          "text": [
            "PADEL - KNN: Accuracy = 0.8209 ± 0.0161, F1 = 0.8129 ± 0.0199, Precision = 0.8156 ± 0.0184, Recall = 0.8206 ± 0.0282\n"
          ]
        },
        {
          "output_type": "stream",
          "name": "stderr",
          "text": [
            "\n",
            "Evaluating models with MACCS descriptors:   8%|▊         | 1/12 [00:05<00:55,  5.00s/it]"
          ]
        },
        {
          "output_type": "stream",
          "name": "stdout",
          "text": [
            "MACCS - Random Forest: Accuracy = 0.9179 ± 0.0171, F1 = 0.9146 ± 0.0177, Precision = 0.9101 ± 0.0178, Recall = 0.9215 ± 0.0173\n"
          ]
        },
        {
          "output_type": "stream",
          "name": "stderr",
          "text": [
            "\rEvaluating models with MACCS descriptors:  17%|█▋        | 2/12 [00:05<00:23,  2.33s/it]"
          ]
        },
        {
          "output_type": "stream",
          "name": "stdout",
          "text": [
            "MACCS - SVM: Accuracy = 0.9067 ± 0.0284, F1 = 0.9033 ± 0.0286, Precision = 0.8995 ± 0.0286, Recall = 0.9115 ± 0.0257\n"
          ]
        },
        {
          "output_type": "stream",
          "name": "stderr",
          "text": [
            "\rEvaluating models with MACCS descriptors:  25%|██▌       | 3/12 [00:06<00:17,  1.94s/it]"
          ]
        },
        {
          "output_type": "stream",
          "name": "stdout",
          "text": [
            "MACCS - XGBoost: Accuracy = 0.9123 ± 0.0125, F1 = 0.9081 ± 0.0127, Precision = 0.9062 ± 0.0142, Recall = 0.9115 ± 0.0126\n"
          ]
        },
        {
          "output_type": "stream",
          "name": "stderr",
          "text": [
            "\rEvaluating models with MACCS descriptors:  33%|███▎      | 4/12 [00:56<02:45, 20.65s/it]"
          ]
        },
        {
          "output_type": "stream",
          "name": "stdout",
          "text": [
            "MACCS - MLP: Accuracy = 0.9105 ± 0.0161, F1 = 0.9057 ± 0.0168, Precision = 0.9053 ± 0.0172, Recall = 0.9073 ± 0.0168\n"
          ]
        },
        {
          "output_type": "stream",
          "name": "stderr",
          "text": [
            "\rEvaluating models with MACCS descriptors:  42%|████▏     | 5/12 [00:56<01:33, 13.39s/it]"
          ]
        },
        {
          "output_type": "stream",
          "name": "stdout",
          "text": [
            "MACCS - Logistic Regression: Accuracy = 0.8993 ± 0.0216, F1 = 0.8947 ± 0.0217, Precision = 0.8927 ± 0.0222, Recall = 0.8991 ± 0.0194\n"
          ]
        },
        {
          "output_type": "stream",
          "name": "stderr",
          "text": [
            "\rEvaluating models with MACCS descriptors:  50%|█████     | 6/12 [00:57<00:53,  8.94s/it]"
          ]
        },
        {
          "output_type": "stream",
          "name": "stdout",
          "text": [
            "MACCS - Decision Tree: Accuracy = 0.8974 ± 0.0228, F1 = 0.8918 ± 0.0244, Precision = 0.8920 ± 0.0241, Recall = 0.8931 ± 0.0259\n"
          ]
        },
        {
          "output_type": "stream",
          "name": "stderr",
          "text": [
            "\rEvaluating models with MACCS descriptors:  58%|█████▊    | 7/12 [01:03<00:40,  8.13s/it]"
          ]
        },
        {
          "output_type": "stream",
          "name": "stdout",
          "text": [
            "MACCS - Gradient Boosting: Accuracy = 0.9104 ± 0.0194, F1 = 0.9071 ± 0.0192, Precision = 0.9044 ± 0.0181, Recall = 0.9154 ± 0.0153\n"
          ]
        },
        {
          "output_type": "stream",
          "name": "stderr",
          "text": [
            "\rEvaluating models with MACCS descriptors:  67%|██████▋   | 8/12 [01:06<00:26,  6.58s/it]"
          ]
        },
        {
          "output_type": "stream",
          "name": "stdout",
          "text": [
            "MACCS - AdaBoost: Accuracy = 0.8805 ± 0.0248, F1 = 0.8731 ± 0.0266, Precision = 0.8761 ± 0.0263, Recall = 0.8719 ± 0.0277\n"
          ]
        },
        {
          "output_type": "stream",
          "name": "stderr",
          "text": [
            "\rEvaluating models with MACCS descriptors:  75%|███████▌  | 9/12 [01:10<00:16,  5.53s/it]"
          ]
        },
        {
          "output_type": "stream",
          "name": "stdout",
          "text": [
            "MACCS - Extra Trees: Accuracy = 0.9179 ± 0.0209, F1 = 0.9141 ± 0.0222, Precision = 0.9109 ± 0.0217, Recall = 0.9187 ± 0.0231\n"
          ]
        },
        {
          "output_type": "stream",
          "name": "stderr",
          "text": [
            "\rEvaluating models with MACCS descriptors:  83%|████████▎ | 10/12 [01:11<00:08,  4.14s/it]"
          ]
        },
        {
          "output_type": "stream",
          "name": "stdout",
          "text": [
            "MACCS - LightGBM: Accuracy = 0.9086 ± 0.0261, F1 = 0.9042 ± 0.0272, Precision = 0.9016 ± 0.0278, Recall = 0.9075 ± 0.0262\n"
          ]
        },
        {
          "output_type": "stream",
          "name": "stderr",
          "text": [
            "\rEvaluating models with MACCS descriptors:  92%|█████████▏| 11/12 [03:41<00:49, 49.03s/it]"
          ]
        },
        {
          "output_type": "stream",
          "name": "stdout",
          "text": [
            "MACCS - CatBoost: Accuracy = 0.9179 ± 0.0261, F1 = 0.9150 ± 0.0259, Precision = 0.9120 ± 0.0256, Recall = 0.9234 ± 0.0210\n"
          ]
        },
        {
          "output_type": "stream",
          "name": "stderr",
          "text": [
            "Evaluating models with MACCS descriptors: 100%|██████████| 12/12 [03:42<00:00, 18.53s/it]"
          ]
        },
        {
          "output_type": "stream",
          "name": "stdout",
          "text": [
            "MACCS - KNN: Accuracy = 0.8898 ± 0.0311, F1 = 0.8847 ± 0.0320, Precision = 0.8839 ± 0.0332, Recall = 0.8886 ± 0.0305\n"
          ]
        },
        {
          "output_type": "stream",
          "name": "stderr",
          "text": [
            "\n",
            "Evaluating models with FCFP descriptors:   8%|▊         | 1/12 [00:07<01:19,  7.22s/it]"
          ]
        },
        {
          "output_type": "stream",
          "name": "stdout",
          "text": [
            "FCFP - Random Forest: Accuracy = 0.9048 ± 0.0208, F1 = 0.9009 ± 0.0212, Precision = 0.8975 ± 0.0214, Recall = 0.9073 ± 0.0202\n"
          ]
        },
        {
          "output_type": "stream",
          "name": "stderr",
          "text": [
            "\rEvaluating models with FCFP descriptors:  17%|█▋        | 2/12 [00:08<00:39,  3.97s/it]"
          ]
        },
        {
          "output_type": "stream",
          "name": "stdout",
          "text": [
            "FCFP - SVM: Accuracy = 0.8955 ± 0.0208, F1 = 0.8920 ± 0.0207, Precision = 0.8885 ± 0.0206, Recall = 0.9015 ± 0.0176\n"
          ]
        },
        {
          "output_type": "stream",
          "name": "stderr",
          "text": [
            "\rEvaluating models with FCFP descriptors:  25%|██▌       | 3/12 [00:13<00:38,  4.24s/it]"
          ]
        },
        {
          "output_type": "stream",
          "name": "stdout",
          "text": [
            "FCFP - XGBoost: Accuracy = 0.8844 ± 0.0315, F1 = 0.8789 ± 0.0333, Precision = 0.8772 ± 0.0330, Recall = 0.8834 ± 0.0351\n"
          ]
        },
        {
          "output_type": "stream",
          "name": "stderr",
          "text": [
            "\rEvaluating models with FCFP descriptors:  33%|███▎      | 4/12 [02:12<06:36, 49.60s/it]"
          ]
        },
        {
          "output_type": "stream",
          "name": "stdout",
          "text": [
            "FCFP - MLP: Accuracy = 0.9105 ± 0.0149, F1 = 0.9060 ± 0.0149, Precision = 0.9053 ± 0.0181, Recall = 0.9082 ± 0.0137\n"
          ]
        },
        {
          "output_type": "stream",
          "name": "stderr",
          "text": [
            "\rEvaluating models with FCFP descriptors:  42%|████▏     | 5/12 [02:13<03:43, 31.97s/it]"
          ]
        },
        {
          "output_type": "stream",
          "name": "stdout",
          "text": [
            "FCFP - Logistic Regression: Accuracy = 0.8899 ± 0.0260, F1 = 0.8843 ± 0.0262, Precision = 0.8845 ± 0.0287, Recall = 0.8861 ± 0.0238\n"
          ]
        },
        {
          "output_type": "stream",
          "name": "stderr",
          "text": [
            "\rEvaluating models with FCFP descriptors:  50%|█████     | 6/12 [02:13<02:07, 21.27s/it]"
          ]
        },
        {
          "output_type": "stream",
          "name": "stdout",
          "text": [
            "FCFP - Decision Tree: Accuracy = 0.8713 ± 0.0199, F1 = 0.8637 ± 0.0224, Precision = 0.8652 ± 0.0195, Recall = 0.8644 ± 0.0268\n"
          ]
        },
        {
          "output_type": "stream",
          "name": "stderr",
          "text": [
            "\rEvaluating models with FCFP descriptors:  58%|█████▊    | 7/12 [02:30<01:38, 19.63s/it]"
          ]
        },
        {
          "output_type": "stream",
          "name": "stdout",
          "text": [
            "FCFP - Gradient Boosting: Accuracy = 0.8881 ± 0.0156, F1 = 0.8827 ± 0.0160, Precision = 0.8808 ± 0.0169, Recall = 0.8863 ± 0.0158\n"
          ]
        },
        {
          "output_type": "stream",
          "name": "stderr",
          "text": [
            "\rEvaluating models with FCFP descriptors:  67%|██████▋   | 8/12 [02:39<01:05, 16.27s/it]"
          ]
        },
        {
          "output_type": "stream",
          "name": "stdout",
          "text": [
            "FCFP - AdaBoost: Accuracy = 0.8824 ± 0.0249, F1 = 0.8762 ± 0.0255, Precision = 0.8760 ± 0.0275, Recall = 0.8772 ± 0.0233\n"
          ]
        },
        {
          "output_type": "stream",
          "name": "stderr",
          "text": [
            "\rEvaluating models with FCFP descriptors:  75%|███████▌  | 9/12 [02:46<00:40, 13.47s/it]"
          ]
        },
        {
          "output_type": "stream",
          "name": "stdout",
          "text": [
            "FCFP - Extra Trees: Accuracy = 0.9011 ± 0.0151, F1 = 0.8968 ± 0.0158, Precision = 0.8933 ± 0.0157, Recall = 0.9024 ± 0.0165\n"
          ]
        },
        {
          "output_type": "stream",
          "name": "stderr",
          "text": [
            "\rEvaluating models with FCFP descriptors:  83%|████████▎ | 10/12 [02:47<00:19,  9.60s/it]"
          ]
        },
        {
          "output_type": "stream",
          "name": "stdout",
          "text": [
            "FCFP - LightGBM: Accuracy = 0.8937 ± 0.0264, F1 = 0.8885 ± 0.0288, Precision = 0.8874 ± 0.0257, Recall = 0.8930 ± 0.0328\n"
          ]
        },
        {
          "output_type": "stream",
          "name": "stderr",
          "text": [
            "\rEvaluating models with FCFP descriptors:  92%|█████████▏| 11/12 [04:26<00:37, 37.10s/it]"
          ]
        },
        {
          "output_type": "stream",
          "name": "stdout",
          "text": [
            "FCFP - CatBoost: Accuracy = 0.8974 ± 0.0154, F1 = 0.8926 ± 0.0162, Precision = 0.8903 ± 0.0153, Recall = 0.8967 ± 0.0179\n"
          ]
        },
        {
          "output_type": "stream",
          "name": "stderr",
          "text": [
            "Evaluating models with FCFP descriptors: 100%|██████████| 12/12 [04:27<00:00, 22.30s/it]"
          ]
        },
        {
          "output_type": "stream",
          "name": "stdout",
          "text": [
            "FCFP - KNN: Accuracy = 0.8675 ± 0.0261, F1 = 0.8610 ± 0.0274, Precision = 0.8599 ± 0.0275, Recall = 0.8642 ± 0.0294\n"
          ]
        },
        {
          "output_type": "stream",
          "name": "stderr",
          "text": [
            "\n",
            "Evaluating models with ECFP descriptors:   8%|▊         | 1/12 [00:07<01:23,  7.55s/it]"
          ]
        },
        {
          "output_type": "stream",
          "name": "stdout",
          "text": [
            "ECFP - Random Forest: Accuracy = 0.9030 ± 0.0337, F1 = 0.8994 ± 0.0345, Precision = 0.8958 ± 0.0351, Recall = 0.9067 ± 0.0329\n"
          ]
        },
        {
          "output_type": "stream",
          "name": "stderr",
          "text": [
            "\rEvaluating models with ECFP descriptors:  17%|█▋        | 2/12 [00:09<00:43,  4.31s/it]"
          ]
        },
        {
          "output_type": "stream",
          "name": "stdout",
          "text": [
            "ECFP - SVM: Accuracy = 0.9030 ± 0.0209, F1 = 0.8991 ± 0.0208, Precision = 0.8970 ± 0.0225, Recall = 0.9058 ± 0.0172\n"
          ]
        },
        {
          "output_type": "stream",
          "name": "stderr",
          "text": [
            "\rEvaluating models with ECFP descriptors:  25%|██▌       | 3/12 [00:14<00:39,  4.39s/it]"
          ]
        },
        {
          "output_type": "stream",
          "name": "stdout",
          "text": [
            "ECFP - XGBoost: Accuracy = 0.9104 ± 0.0164, F1 = 0.9055 ± 0.0172, Precision = 0.9050 ± 0.0179, Recall = 0.9063 ± 0.0167\n"
          ]
        },
        {
          "output_type": "stream",
          "name": "stderr",
          "text": [
            "\rEvaluating models with ECFP descriptors:  33%|███▎      | 4/12 [01:37<04:44, 35.57s/it]"
          ]
        },
        {
          "output_type": "stream",
          "name": "stdout",
          "text": [
            "ECFP - MLP: Accuracy = 0.8900 ± 0.0213, F1 = 0.8842 ± 0.0224, Precision = 0.8832 ± 0.0222, Recall = 0.8861 ± 0.0234\n"
          ]
        },
        {
          "output_type": "stream",
          "name": "stderr",
          "text": [
            "\rEvaluating models with ECFP descriptors:  42%|████▏     | 5/12 [01:38<02:40, 22.97s/it]"
          ]
        },
        {
          "output_type": "stream",
          "name": "stdout",
          "text": [
            "ECFP - Logistic Regression: Accuracy = 0.9030 ± 0.0162, F1 = 0.8978 ± 0.0166, Precision = 0.8983 ± 0.0180, Recall = 0.8994 ± 0.0170\n"
          ]
        },
        {
          "output_type": "stream",
          "name": "stderr",
          "text": [
            "\rEvaluating models with ECFP descriptors:  50%|█████     | 6/12 [01:38<01:31, 15.33s/it]"
          ]
        },
        {
          "output_type": "stream",
          "name": "stdout",
          "text": [
            "ECFP - Decision Tree: Accuracy = 0.8862 ± 0.0231, F1 = 0.8809 ± 0.0230, Precision = 0.8798 ± 0.0266, Recall = 0.8838 ± 0.0184\n"
          ]
        },
        {
          "output_type": "stream",
          "name": "stderr",
          "text": [
            "\rEvaluating models with ECFP descriptors:  58%|█████▊    | 7/12 [01:57<01:22, 16.41s/it]"
          ]
        },
        {
          "output_type": "stream",
          "name": "stdout",
          "text": [
            "ECFP - Gradient Boosting: Accuracy = 0.9011 ± 0.0150, F1 = 0.8953 ± 0.0151, Precision = 0.8981 ± 0.0171, Recall = 0.8943 ± 0.0132\n"
          ]
        },
        {
          "output_type": "stream",
          "name": "stderr",
          "text": [
            "\rEvaluating models with ECFP descriptors:  67%|██████▋   | 8/12 [02:07<00:57, 14.31s/it]"
          ]
        },
        {
          "output_type": "stream",
          "name": "stdout",
          "text": [
            "ECFP - AdaBoost: Accuracy = 0.8768 ± 0.0327, F1 = 0.8699 ± 0.0351, Precision = 0.8704 ± 0.0354, Recall = 0.8707 ± 0.0360\n"
          ]
        },
        {
          "output_type": "stream",
          "name": "stderr",
          "text": [
            "\rEvaluating models with ECFP descriptors:  75%|███████▌  | 9/12 [02:12<00:34, 11.55s/it]"
          ]
        },
        {
          "output_type": "stream",
          "name": "stdout",
          "text": [
            "ECFP - Extra Trees: Accuracy = 0.9104 ± 0.0226, F1 = 0.9071 ± 0.0231, Precision = 0.9030 ± 0.0235, Recall = 0.9154 ± 0.0220\n"
          ]
        },
        {
          "output_type": "stream",
          "name": "stderr",
          "text": [
            "\rEvaluating models with ECFP descriptors:  83%|████████▎ | 10/12 [02:13<00:16,  8.38s/it]"
          ]
        },
        {
          "output_type": "stream",
          "name": "stdout",
          "text": [
            "ECFP - LightGBM: Accuracy = 0.9011 ± 0.0153, F1 = 0.8960 ± 0.0158, Precision = 0.8948 ± 0.0166, Recall = 0.8978 ± 0.0155\n"
          ]
        },
        {
          "output_type": "stream",
          "name": "stderr",
          "text": [
            "\rEvaluating models with ECFP descriptors:  92%|█████████▏| 11/12 [04:14<00:42, 42.81s/it]"
          ]
        },
        {
          "output_type": "stream",
          "name": "stdout",
          "text": [
            "ECFP - CatBoost: Accuracy = 0.9142 ± 0.0093, F1 = 0.9098 ± 0.0092, Precision = 0.9091 ± 0.0115, Recall = 0.9121 ± 0.0076\n"
          ]
        },
        {
          "output_type": "stream",
          "name": "stderr",
          "text": [
            "Evaluating models with ECFP descriptors: 100%|██████████| 12/12 [04:15<00:00, 21.28s/it]"
          ]
        },
        {
          "output_type": "stream",
          "name": "stdout",
          "text": [
            "ECFP - KNN: Accuracy = 0.8638 ± 0.0381, F1 = 0.8587 ± 0.0384, Precision = 0.8562 ± 0.0381, Recall = 0.8658 ± 0.0367\n"
          ]
        },
        {
          "output_type": "stream",
          "name": "stderr",
          "text": [
            "\n",
            "Evaluating models with RDKIT descriptors:   8%|▊         | 1/12 [00:05<01:03,  5.77s/it]"
          ]
        },
        {
          "output_type": "stream",
          "name": "stdout",
          "text": [
            "RDKIT - Random Forest: Accuracy = 0.9254 ± 0.0229, F1 = 0.9225 ± 0.0236, Precision = 0.9188 ± 0.0240, Recall = 0.9303 ± 0.0223\n"
          ]
        },
        {
          "output_type": "stream",
          "name": "stderr",
          "text": [
            "\rEvaluating models with RDKIT descriptors:  17%|█▋        | 2/12 [00:06<00:27,  2.73s/it]"
          ]
        },
        {
          "output_type": "stream",
          "name": "stdout",
          "text": [
            "RDKIT - SVM: Accuracy = 0.6157 ± 0.0023, F1 = 0.3811 ± 0.0009, Precision = 0.3078 ± 0.0011, Recall = 0.5000 ± 0.0000\n"
          ]
        },
        {
          "output_type": "stream",
          "name": "stderr",
          "text": [
            "\rEvaluating models with RDKIT descriptors:  25%|██▌       | 3/12 [00:12<00:38,  4.30s/it]"
          ]
        },
        {
          "output_type": "stream",
          "name": "stdout",
          "text": [
            "RDKIT - XGBoost: Accuracy = 0.9254 ± 0.0234, F1 = 0.9221 ± 0.0246, Precision = 0.9183 ± 0.0236, Recall = 0.9277 ± 0.0266\n"
          ]
        },
        {
          "output_type": "stream",
          "name": "stderr",
          "text": [
            "\rEvaluating models with RDKIT descriptors:  33%|███▎      | 4/12 [00:17<00:35,  4.50s/it]"
          ]
        },
        {
          "output_type": "stream",
          "name": "stdout",
          "text": [
            "RDKIT - MLP: Accuracy = 0.5407 ± 0.1480, F1 = 0.5066 ± 0.1250, Precision = 0.5592 ± 0.1417, Recall = 0.5307 ± 0.1056\n"
          ]
        },
        {
          "output_type": "stream",
          "name": "stderr",
          "text": [
            "\rEvaluating models with RDKIT descriptors:  42%|████▏     | 5/12 [00:28<00:47,  6.77s/it]"
          ]
        },
        {
          "output_type": "stream",
          "name": "stdout",
          "text": [
            "RDKIT - Logistic Regression: Accuracy = 0.8937 ± 0.0267, F1 = 0.8889 ± 0.0273, Precision = 0.8868 ± 0.0276, Recall = 0.8937 ± 0.0268\n"
          ]
        },
        {
          "output_type": "stream",
          "name": "stderr",
          "text": [
            "\rEvaluating models with RDKIT descriptors:  50%|█████     | 6/12 [00:28<00:28,  4.72s/it]"
          ]
        },
        {
          "output_type": "stream",
          "name": "stdout",
          "text": [
            "RDKIT - Decision Tree: Accuracy = 0.8937 ± 0.0159, F1 = 0.8875 ± 0.0174, Precision = 0.8882 ± 0.0149, Recall = 0.8873 ± 0.0203\n"
          ]
        },
        {
          "output_type": "stream",
          "name": "stderr",
          "text": [
            "\rEvaluating models with RDKIT descriptors:  58%|█████▊    | 7/12 [00:49<00:50, 10.00s/it]"
          ]
        },
        {
          "output_type": "stream",
          "name": "stdout",
          "text": [
            "RDKIT - Gradient Boosting: Accuracy = 0.9198 ± 0.0225, F1 = 0.9162 ± 0.0235, Precision = 0.9128 ± 0.0233, Recall = 0.9213 ± 0.0237\n"
          ]
        },
        {
          "output_type": "stream",
          "name": "stderr",
          "text": [
            "\rEvaluating models with RDKIT descriptors:  67%|██████▋   | 8/12 [00:57<00:36,  9.15s/it]"
          ]
        },
        {
          "output_type": "stream",
          "name": "stdout",
          "text": [
            "RDKIT - AdaBoost: Accuracy = 0.8974 ± 0.0354, F1 = 0.8924 ± 0.0372, Precision = 0.8905 ± 0.0370, Recall = 0.8958 ± 0.0375\n"
          ]
        },
        {
          "output_type": "stream",
          "name": "stderr",
          "text": [
            "\rEvaluating models with RDKIT descriptors:  75%|███████▌  | 9/12 [01:00<00:21,  7.32s/it]"
          ]
        },
        {
          "output_type": "stream",
          "name": "stdout",
          "text": [
            "RDKIT - Extra Trees: Accuracy = 0.9254 ± 0.0176, F1 = 0.9223 ± 0.0180, Precision = 0.9191 ± 0.0180, Recall = 0.9286 ± 0.0169\n"
          ]
        },
        {
          "output_type": "stream",
          "name": "stderr",
          "text": [
            "\rEvaluating models with RDKIT descriptors:  83%|████████▎ | 10/12 [01:04<00:12,  6.23s/it]"
          ]
        },
        {
          "output_type": "stream",
          "name": "stdout",
          "text": [
            "RDKIT - LightGBM: Accuracy = 0.9236 ± 0.0258, F1 = 0.9202 ± 0.0272, Precision = 0.9168 ± 0.0262, Recall = 0.9262 ± 0.0295\n"
          ]
        },
        {
          "output_type": "stream",
          "name": "stderr",
          "text": [
            "Evaluating models with RDKIT descriptors: 100%|██████████| 12/12 [06:34<00:00, 32.92s/it]"
          ]
        },
        {
          "output_type": "stream",
          "name": "stdout",
          "text": [
            "RDKIT - CatBoost: Accuracy = 0.9217 ± 0.0150, F1 = 0.9188 ± 0.0153, Precision = 0.9144 ± 0.0152, Recall = 0.9274 ± 0.0145\n",
            "RDKIT - KNN: Accuracy = 0.7574 ± 0.0198, F1 = 0.7402 ± 0.0187, Precision = 0.7455 ± 0.0214, Recall = 0.7374 ± 0.0169\n",
            "Results for PADEL:\n",
            "                     Accuracy (mean)  Accuracy (std)  F1 (mean)  F1 (std)  \\\n",
            "Random Forest               0.910436        0.015246   0.906857  0.015018   \n",
            "SVM                         0.636154        0.017467   0.467033  0.034516   \n",
            "XGBoost                     0.906767        0.015236   0.902542  0.016311   \n",
            "MLP                         0.777985        0.019936   0.762673  0.022683   \n",
            "Logistic Regression         0.828366        0.024015   0.823172  0.022805   \n",
            "Decision Tree               0.850796        0.045203   0.841689  0.047874   \n",
            "Gradient Boosting           0.893666        0.007331   0.888036  0.005965   \n",
            "AdaBoost                    0.893700        0.030295   0.888624  0.030974   \n",
            "Extra Trees                 0.925355        0.014558   0.922361  0.014503   \n",
            "LightGBM                    0.903029        0.028527   0.898605  0.029348   \n",
            "CatBoost                    0.908584        0.009128   0.904500  0.008965   \n",
            "KNN                         0.820890        0.016131   0.812923  0.019928   \n",
            "\n",
            "                     Precision (mean)  Precision (std)  Recall (mean)  \\\n",
            "Random Forest                0.903677         0.016088       0.913647   \n",
            "SVM                          0.685640         0.103762       0.534796   \n",
            "XGBoost                      0.900310         0.015103       0.908019   \n",
            "MLP                          0.774261         0.020581       0.764096   \n",
            "Logistic Regression          0.821464         0.021624       0.833296   \n",
            "Decision Tree                0.845193         0.045378       0.841722   \n",
            "Gradient Boosting            0.890105         0.013535       0.890022   \n",
            "AdaBoost                     0.887438         0.031414       0.891812   \n",
            "Extra Trees                  0.919006         0.015699       0.929347   \n",
            "LightGBM                     0.896687         0.031409       0.902159   \n",
            "CatBoost                     0.901835         0.010629       0.909418   \n",
            "KNN                          0.815603         0.018352       0.820594   \n",
            "\n",
            "                     Recall (std)  \n",
            "Random Forest            0.011259  \n",
            "SVM                      0.020439  \n",
            "XGBoost                  0.019354  \n",
            "MLP                      0.027140  \n",
            "Logistic Regression      0.018163  \n",
            "Decision Tree            0.049086  \n",
            "Gradient Boosting        0.006334  \n",
            "AdaBoost                 0.030005  \n",
            "Extra Trees              0.011500  \n",
            "LightGBM                 0.026723  \n",
            "CatBoost                 0.007307  \n",
            "KNN                      0.028212  \n",
            "======================================\n",
            "Results for MACCS:\n",
            "                     Accuracy (mean)  Accuracy (std)  F1 (mean)  F1 (std)  \\\n",
            "Random Forest               0.917913        0.017117   0.914595  0.017691   \n",
            "SVM                         0.906698        0.028400   0.903330  0.028603   \n",
            "XGBoost                     0.912340        0.012456   0.908114  0.012708   \n",
            "MLP                         0.910471        0.016146   0.905738  0.016837   \n",
            "Logistic Regression         0.899256        0.021624   0.894733  0.021704   \n",
            "Decision Tree               0.897404        0.022811   0.891774  0.024413   \n",
            "Gradient Boosting           0.910419        0.019353   0.907089  0.019185   \n",
            "AdaBoost                    0.880547        0.024841   0.873106  0.026602   \n",
            "Extra Trees                 0.917878        0.020913   0.914055  0.022171   \n",
            "LightGBM                    0.908567        0.026081   0.904215  0.027157   \n",
            "CatBoost                    0.917895        0.026076   0.914991  0.025949   \n",
            "KNN                         0.889841        0.031116   0.884698  0.031974   \n",
            "\n",
            "                     Precision (mean)  Precision (std)  Recall (mean)  \\\n",
            "Random Forest                0.910103         0.017752       0.921497   \n",
            "SVM                          0.899526         0.028554       0.911482   \n",
            "XGBoost                      0.906239         0.014215       0.911525   \n",
            "MLP                          0.905300         0.017230       0.907296   \n",
            "Logistic Regression          0.892673         0.022180       0.899129   \n",
            "Decision Tree                0.892013         0.024147       0.893052   \n",
            "Gradient Boosting            0.904390         0.018126       0.915437   \n",
            "AdaBoost                     0.876083         0.026286       0.871851   \n",
            "Extra Trees                  0.910866         0.021680       0.918668   \n",
            "LightGBM                     0.901585         0.027775       0.907512   \n",
            "CatBoost                     0.911988         0.025597       0.923403   \n",
            "KNN                          0.883949         0.033159       0.888607   \n",
            "\n",
            "                     Recall (std)  \n",
            "Random Forest            0.017258  \n",
            "SVM                      0.025747  \n",
            "XGBoost                  0.012582  \n",
            "MLP                      0.016819  \n",
            "Logistic Regression      0.019367  \n",
            "Decision Tree            0.025939  \n",
            "Gradient Boosting        0.015268  \n",
            "AdaBoost                 0.027703  \n",
            "Extra Trees              0.023109  \n",
            "LightGBM                 0.026153  \n",
            "CatBoost                 0.020972  \n",
            "KNN                      0.030530  \n",
            "======================================\n",
            "Results for FCFP:\n",
            "                     Accuracy (mean)  Accuracy (std)  F1 (mean)  F1 (std)  \\\n",
            "Random Forest               0.904846        0.020832   0.900927  0.021247   \n",
            "SVM                         0.895517        0.020835   0.891974  0.020701   \n",
            "XGBoost                     0.884354        0.031499   0.878923  0.033285   \n",
            "MLP                         0.910488        0.014881   0.905966  0.014950   \n",
            "Logistic Regression         0.889927        0.026023   0.884335  0.026238   \n",
            "Decision Tree               0.871270        0.019940   0.863718  0.022439   \n",
            "Gradient Boosting           0.888058        0.015644   0.882740  0.016035   \n",
            "AdaBoost                    0.882433        0.024915   0.876225  0.025516   \n",
            "Extra Trees                 0.901125        0.015143   0.896829  0.015772   \n",
            "LightGBM                    0.893735        0.026386   0.888459  0.028764   \n",
            "CatBoost                    0.897421        0.015374   0.892585  0.016155   \n",
            "KNN                         0.867532        0.026056   0.860990  0.027377   \n",
            "\n",
            "                     Precision (mean)  Precision (std)  Recall (mean)  \\\n",
            "Random Forest                0.897507         0.021433       0.907254   \n",
            "SVM                          0.888504         0.020586       0.901526   \n",
            "XGBoost                      0.877214         0.032983       0.883428   \n",
            "MLP                          0.905330         0.018123       0.908162   \n",
            "Logistic Regression          0.884494         0.028675       0.886068   \n",
            "Decision Tree                0.865194         0.019461       0.864449   \n",
            "Gradient Boosting            0.880837         0.016867       0.886343   \n",
            "AdaBoost                     0.875982         0.027478       0.877178   \n",
            "Extra Trees                  0.893338         0.015718       0.902376   \n",
            "LightGBM                     0.887366         0.025725       0.892968   \n",
            "CatBoost                     0.890325         0.015321       0.896748   \n",
            "KNN                          0.859855         0.027523       0.864249   \n",
            "\n",
            "                     Recall (std)  \n",
            "Random Forest            0.020184  \n",
            "SVM                      0.017580  \n",
            "XGBoost                  0.035097  \n",
            "MLP                      0.013703  \n",
            "Logistic Regression      0.023825  \n",
            "Decision Tree            0.026824  \n",
            "Gradient Boosting        0.015751  \n",
            "AdaBoost                 0.023282  \n",
            "Extra Trees              0.016471  \n",
            "LightGBM                 0.032807  \n",
            "CatBoost                 0.017933  \n",
            "KNN                      0.029409  \n",
            "======================================\n",
            "Results for ECFP:\n",
            "                     Accuracy (mean)  Accuracy (std)  F1 (mean)  F1 (std)  \\\n",
            "Random Forest               0.903011        0.033659   0.899354  0.034515   \n",
            "SVM                         0.902994        0.020934   0.899138  0.020796   \n",
            "XGBoost                     0.910436        0.016351   0.905548  0.017216   \n",
            "MLP                         0.889979        0.021282   0.884245  0.022430   \n",
            "Logistic Regression         0.902994        0.016234   0.897831  0.016604   \n",
            "Decision Tree               0.886206        0.023127   0.880890  0.023006   \n",
            "Gradient Boosting           0.901142        0.015011   0.895290  0.015054   \n",
            "AdaBoost                    0.876826        0.032712   0.869902  0.035058   \n",
            "Extra Trees                 0.910436        0.022626   0.907106  0.023078   \n",
            "LightGBM                    0.901108        0.015253   0.895980  0.015843   \n",
            "CatBoost                    0.914157        0.009329   0.909773  0.009226   \n",
            "KNN                         0.863811        0.038102   0.858705  0.038405   \n",
            "\n",
            "                     Precision (mean)  Precision (std)  Recall (mean)  \\\n",
            "Random Forest                0.895831         0.035098       0.906721   \n",
            "SVM                          0.896968         0.022544       0.905797   \n",
            "XGBoost                      0.904986         0.017909       0.906256   \n",
            "MLP                          0.883172         0.022225       0.886126   \n",
            "Logistic Regression          0.898349         0.017955       0.899446   \n",
            "Decision Tree                0.879785         0.026585       0.883845   \n",
            "Gradient Boosting            0.898099         0.017132       0.894293   \n",
            "AdaBoost                     0.870410         0.035411       0.870668   \n",
            "Extra Trees                  0.903030         0.023505       0.915379   \n",
            "LightGBM                     0.894815         0.016614       0.897814   \n",
            "CatBoost                     0.909059         0.011484       0.912058   \n",
            "KNN                          0.856204         0.038132       0.865780   \n",
            "\n",
            "                     Recall (std)  \n",
            "Random Forest            0.032861  \n",
            "SVM                      0.017226  \n",
            "XGBoost                  0.016689  \n",
            "MLP                      0.023382  \n",
            "Logistic Regression      0.016968  \n",
            "Decision Tree            0.018371  \n",
            "Gradient Boosting        0.013202  \n",
            "AdaBoost                 0.036020  \n",
            "Extra Trees              0.021964  \n",
            "LightGBM                 0.015454  \n",
            "CatBoost                 0.007559  \n",
            "KNN                      0.036684  \n",
            "======================================\n",
            "Results for RDKIT:\n",
            "                     Accuracy (mean)  Accuracy (std)  F1 (mean)  F1 (std)  \\\n",
            "Random Forest               0.925372        0.022894   0.922503  0.023552   \n",
            "SVM                         0.615680        0.002285   0.381064  0.000877   \n",
            "XGBoost                     0.925424        0.023419   0.922090  0.024584   \n",
            "MLP                         0.540689        0.147989   0.506592  0.125041   \n",
            "Logistic Regression         0.893683        0.026706   0.888947  0.027340   \n",
            "Decision Tree               0.893700        0.015937   0.887463  0.017411   \n",
            "Gradient Boosting           0.919799        0.022487   0.916216  0.023479   \n",
            "AdaBoost                    0.897404        0.035412   0.892429  0.037182   \n",
            "Extra Trees                 0.925407        0.017552   0.922289  0.017994   \n",
            "LightGBM                    0.923572        0.025753   0.920185  0.027154   \n",
            "CatBoost                    0.921668        0.015018   0.918757  0.015298   \n",
            "KNN                         0.757442        0.019828   0.740186  0.018704   \n",
            "\n",
            "                     Precision (mean)  Precision (std)  Recall (mean)  \\\n",
            "Random Forest                0.918776         0.024038       0.930329   \n",
            "SVM                          0.307840         0.001142       0.500000   \n",
            "XGBoost                      0.918261         0.023628       0.927674   \n",
            "MLP                          0.559202         0.141684       0.530678   \n",
            "Logistic Regression          0.886849         0.027624       0.893718   \n",
            "Decision Tree                0.888226         0.014872       0.887309   \n",
            "Gradient Boosting            0.912828         0.023306       0.921281   \n",
            "AdaBoost                     0.890494         0.037018       0.895766   \n",
            "Extra Trees                  0.919111         0.017966       0.928598   \n",
            "LightGBM                     0.916838         0.026242       0.926217   \n",
            "CatBoost                     0.914416         0.015221       0.927357   \n",
            "KNN                          0.745538         0.021422       0.737383   \n",
            "\n",
            "                     Recall (std)  \n",
            "Random Forest            0.022305  \n",
            "SVM                      0.000000  \n",
            "XGBoost                  0.026586  \n",
            "MLP                      0.105643  \n",
            "Logistic Regression      0.026788  \n",
            "Decision Tree            0.020306  \n",
            "Gradient Boosting        0.023720  \n",
            "AdaBoost                 0.037498  \n",
            "Extra Trees              0.016924  \n",
            "LightGBM                 0.029486  \n",
            "CatBoost                 0.014471  \n",
            "KNN                      0.016915  \n",
            "======================================\n"
          ]
        },
        {
          "output_type": "stream",
          "name": "stderr",
          "text": [
            "\n"
          ]
        }
      ]
    },
    {
      "cell_type": "code",
      "source": [
        "combined_results = pd.concat(\n",
        "    [df.assign(Descriptor_Method=method) for method, df in all_results.items()],\n",
        "    ignore_index=True\n",
        ")\n",
        "\n",
        "# Save the combined results to a CSV file\n",
        "combined_results.to_csv('all_descriptor_results.csv', index=False)\n",
        "\n",
        "print(\"All results have been saved to 'all_descriptor_results.csv'.\")"
      ],
      "metadata": {
        "colab": {
          "base_uri": "https://localhost:8080/"
        },
        "id": "suwa2WamAHYo",
        "outputId": "48cd8319-2218-468c-c44b-c4dcf8010d20"
      },
      "execution_count": null,
      "outputs": [
        {
          "output_type": "stream",
          "name": "stdout",
          "text": [
            "All results have been saved to 'all_descriptor_results.csv'.\n"
          ]
        }
      ]
    }
  ]
}